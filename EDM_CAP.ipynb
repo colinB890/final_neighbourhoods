{
 "cells": [
  {
   "cell_type": "code",
   "execution_count": 2,
   "metadata": {},
   "outputs": [
    {
     "data": {
      "text/html": [
       "<img src=\"https://upload.wikimedia.org/wikipedia/commons/d/d9/LegislatureFortEd.jpg\"/>"
      ],
      "text/plain": [
       "<IPython.core.display.Image object>"
      ]
     },
     "execution_count": 2,
     "metadata": {},
     "output_type": "execute_result"
    }
   ],
   "source": [
    "from IPython.display import Image\n",
    "from IPython.core.display import HTML \n",
    "Image(url= \"https://upload.wikimedia.org/wikipedia/commons/d/d9/LegislatureFortEd.jpg\")\n",
    "\n",
    "# DISPLAYS A PICTURE OF OLD EDMONTON"
   ]
  },
  {
   "cell_type": "code",
   "execution_count": 3,
   "metadata": {},
   "outputs": [
    {
     "name": "stdout",
     "output_type": "stream",
     "text": [
      "Solving environment: done\n",
      "\n",
      "# All requested packages already installed.\n",
      "\n",
      "Solving environment: done\n",
      "\n",
      "# All requested packages already installed.\n",
      "\n",
      "Libraries imported.\n"
     ]
    }
   ],
   "source": [
    "##loading libraries\n",
    "\n",
    "import numpy as np # library to handle data in a vectorized manner\n",
    "\n",
    "import pandas as pd # library for data analysis\n",
    "pd.set_option('display.max_columns', None)\n",
    "pd.set_option('display.max_rows', None)\n",
    "\n",
    "import json # library to handle JSON files\n",
    "\n",
    "!conda install -c conda-forge geopy --yes # uncomment this line if you haven't completed the Foursquare API lab\n",
    "\n",
    "\n",
    "import requests # library to handle requests\n",
    "from pandas.io.json import json_normalize # tranform JSON file into a pandas dataframe\n",
    "\n",
    "# Matplotlib and associated plotting modules\n",
    "import matplotlib.cm as cm\n",
    "import matplotlib.colors as colors\n",
    "\n",
    "# import k-means from clustering stage\n",
    "from sklearn.cluster import KMeans\n",
    "\n",
    "# for webscraping import Beautiful Soup \n",
    "from bs4 import BeautifulSoup\n",
    "\n",
    "import xml\n",
    "\n",
    "!conda install -c conda-forge folium=0.5.0 --yes \n",
    "import folium # map rendering library\n",
    "\n",
    "print('Libraries imported.')"
   ]
  },
  {
   "cell_type": "code",
   "execution_count": 4,
   "metadata": {},
   "outputs": [
    {
     "name": "stderr",
     "output_type": "stream",
     "text": [
      "/anaconda3/lib/python3.7/site-packages/ipykernel_launcher.py:6: DeprecationWarning: Using Nominatim with the default \"geopy/1.18.1\" `user_agent` is strongly discouraged, as it violates Nominatim's ToS https://operations.osmfoundation.org/policies/nominatim/ and may possibly cause 403 and 429 HTTP errors. Please specify a custom `user_agent` with `Nominatim(user_agent=\"my-application\")` or by overriding the default `user_agent`: `geopy.geocoders.options.default_user_agent = \"my-application\"`. In geopy 2.0 this will become an exception.\n",
      "  \n"
     ]
    },
    {
     "name": "stdout",
     "output_type": "stream",
     "text": [
      "The longitude of  Edmonton, Canada  is  -113.507996  and the latitude is  53.535411\n"
     ]
    }
   ],
   "source": [
    "#Let's get the longitude and latitude of the city we are working with\n",
    "\n",
    "from geopy.geocoders import Nominatim # convert an address into latitude and longitude values\n",
    "\n",
    "Address = \"Edmonton, Canada\"\n",
    "geolocator = Nominatim()\n",
    "location = geolocator.geocode(Address)\n",
    "latitude = location.latitude\n",
    "longitude = location.longitude\n",
    "print(\"The longitude of \",Address,\" is \",longitude,\" and the latitude is \", latitude)"
   ]
  },
  {
   "cell_type": "code",
   "execution_count": 5,
   "metadata": {},
   "outputs": [
    {
     "name": "stdout",
     "output_type": "stream",
     "text": [
      "Your credentails:\n",
      "CLIENT_ID: 0NQN04U1JVDESO0VPD3JJEHI1LZJ2E2NG4T1O2RBZVYW5WIZ\n",
      "CLIENT_SECRET:YYQ0VRDGU013CRRRRTGQ0Z3NRKFJK3B3J5SMHJG3OH5KYBA2\n"
     ]
    }
   ],
   "source": [
    "#SET UP FOUR SQUARE\n",
    "\n",
    "CLIENT_ID = '0NQN04U1JVDESO0VPD3JJEHI1LZJ2E2NG4T1O2RBZVYW5WIZ' # your Foursquare ID\n",
    "CLIENT_SECRET = 'YYQ0VRDGU013CRRRRTGQ0Z3NRKFJK3B3J5SMHJG3OH5KYBA2' # your Foursquare Secret\n",
    "VERSION = '20180605' # Foursquare API version\n",
    "\n",
    "print('Your credentails:')\n",
    "print('CLIENT_ID: ' + CLIENT_ID)\n",
    "print('CLIENT_SECRET:' + CLIENT_SECRET)\n"
   ]
  },
  {
   "cell_type": "code",
   "execution_count": 6,
   "metadata": {},
   "outputs": [
    {
     "ename": "NameError",
     "evalue": "name 'Van_data' is not defined",
     "output_type": "error",
     "traceback": [
      "\u001b[0;31m---------------------------------------------------------------------------\u001b[0m",
      "\u001b[0;31mNameError\u001b[0m                                 Traceback (most recent call last)",
      "\u001b[0;32m<ipython-input-6-271b53b83879>\u001b[0m in \u001b[0;36m<module>\u001b[0;34m()\u001b[0m\n\u001b[0;32m----> 1\u001b[0;31m \u001b[0mVan_data\u001b[0m\u001b[0;34m.\u001b[0m\u001b[0mloc\u001b[0m\u001b[0;34m[\u001b[0m\u001b[0;36m0\u001b[0m\u001b[0;34m,\u001b[0m \u001b[0;34m'name'\u001b[0m\u001b[0;34m]\u001b[0m\u001b[0;34m\u001b[0m\u001b[0;34m\u001b[0m\u001b[0m\n\u001b[0m",
      "\u001b[0;31mNameError\u001b[0m: name 'Van_data' is not defined"
     ]
    }
   ],
   "source": [
    "Van_data.loc[0, 'name']"
   ]
  },
  {
   "cell_type": "code",
   "execution_count": null,
   "metadata": {},
   "outputs": [],
   "source": []
  },
  {
   "cell_type": "code",
   "execution_count": null,
   "metadata": {},
   "outputs": [],
   "source": []
  },
  {
   "cell_type": "code",
   "execution_count": 7,
   "metadata": {},
   "outputs": [
    {
     "data": {
      "text/html": [
       "<div style=\"width:100%;\"><div style=\"position:relative;width:100%;height:0;padding-bottom:60%;\"><iframe src=\"data:text/html;charset=utf-8;base64,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\" style=\"position:absolute;width:100%;height:100%;left:0;top:0;border:none !important;\" allowfullscreen webkitallowfullscreen mozallowfullscreen></iframe></div></div>"
      ],
      "text/plain": [
       "<folium.folium.Map at 0x1a19cb0f28>"
      ]
     },
     "execution_count": 7,
     "metadata": {},
     "output_type": "execute_result"
    }
   ],
   "source": [
    "#Display a map of Edmonton\n",
    "\n",
    "\n",
    "\n",
    "world_geo = r'world_countries.json' # geojson file\n",
    "\n",
    "Ed_Map = folium.Map(location=[53.535411, -113.507996], width=1000, height=750,zoom_start=12)\n",
    "\n",
    "Ed_Map"
   ]
  },
  {
   "cell_type": "code",
   "execution_count": 8,
   "metadata": {},
   "outputs": [
    {
     "data": {
      "text/html": [
       "<div>\n",
       "<style scoped>\n",
       "    .dataframe tbody tr th:only-of-type {\n",
       "        vertical-align: middle;\n",
       "    }\n",
       "\n",
       "    .dataframe tbody tr th {\n",
       "        vertical-align: top;\n",
       "    }\n",
       "\n",
       "    .dataframe thead th {\n",
       "        text-align: right;\n",
       "    }\n",
       "</style>\n",
       "<table border=\"1\" class=\"dataframe\">\n",
       "  <thead>\n",
       "    <tr style=\"text-align: right;\">\n",
       "      <th></th>\n",
       "      <th>Neighbourhood Description (Occurrence)</th>\n",
       "      <th>UCR Violation Type Group (Incident)</th>\n",
       "      <th>Incident Reported Year</th>\n",
       "      <th>Incident Reported Quarter</th>\n",
       "      <th>Incident Reported Month</th>\n",
       "      <th># Incidents</th>\n",
       "    </tr>\n",
       "  </thead>\n",
       "  <tbody>\n",
       "    <tr>\n",
       "      <th>0</th>\n",
       "      <td>ABBOTTSFIELD</td>\n",
       "      <td>Assault</td>\n",
       "      <td>2009</td>\n",
       "      <td>Q1</td>\n",
       "      <td>1</td>\n",
       "      <td>3</td>\n",
       "    </tr>\n",
       "    <tr>\n",
       "      <th>1</th>\n",
       "      <td>ABBOTTSFIELD</td>\n",
       "      <td>Assault</td>\n",
       "      <td>2009</td>\n",
       "      <td>Q1</td>\n",
       "      <td>2</td>\n",
       "      <td>5</td>\n",
       "    </tr>\n",
       "    <tr>\n",
       "      <th>2</th>\n",
       "      <td>ABBOTTSFIELD</td>\n",
       "      <td>Assault</td>\n",
       "      <td>2009</td>\n",
       "      <td>Q1</td>\n",
       "      <td>3</td>\n",
       "      <td>2</td>\n",
       "    </tr>\n",
       "    <tr>\n",
       "      <th>3</th>\n",
       "      <td>ABBOTTSFIELD</td>\n",
       "      <td>Assault</td>\n",
       "      <td>2009</td>\n",
       "      <td>Q2</td>\n",
       "      <td>4</td>\n",
       "      <td>2</td>\n",
       "    </tr>\n",
       "    <tr>\n",
       "      <th>4</th>\n",
       "      <td>ABBOTTSFIELD</td>\n",
       "      <td>Assault</td>\n",
       "      <td>2009</td>\n",
       "      <td>Q2</td>\n",
       "      <td>5</td>\n",
       "      <td>6</td>\n",
       "    </tr>\n",
       "    <tr>\n",
       "      <th>5</th>\n",
       "      <td>ABBOTTSFIELD</td>\n",
       "      <td>Assault</td>\n",
       "      <td>2009</td>\n",
       "      <td>Q2</td>\n",
       "      <td>6</td>\n",
       "      <td>4</td>\n",
       "    </tr>\n",
       "    <tr>\n",
       "      <th>6</th>\n",
       "      <td>ABBOTTSFIELD</td>\n",
       "      <td>Assault</td>\n",
       "      <td>2009</td>\n",
       "      <td>Q3</td>\n",
       "      <td>8</td>\n",
       "      <td>3</td>\n",
       "    </tr>\n",
       "    <tr>\n",
       "      <th>7</th>\n",
       "      <td>ABBOTTSFIELD</td>\n",
       "      <td>Assault</td>\n",
       "      <td>2009</td>\n",
       "      <td>Q3</td>\n",
       "      <td>9</td>\n",
       "      <td>4</td>\n",
       "    </tr>\n",
       "    <tr>\n",
       "      <th>8</th>\n",
       "      <td>ABBOTTSFIELD</td>\n",
       "      <td>Assault</td>\n",
       "      <td>2009</td>\n",
       "      <td>Q4</td>\n",
       "      <td>10</td>\n",
       "      <td>4</td>\n",
       "    </tr>\n",
       "    <tr>\n",
       "      <th>9</th>\n",
       "      <td>ABBOTTSFIELD</td>\n",
       "      <td>Assault</td>\n",
       "      <td>2009</td>\n",
       "      <td>Q4</td>\n",
       "      <td>11</td>\n",
       "      <td>6</td>\n",
       "    </tr>\n",
       "  </tbody>\n",
       "</table>\n",
       "</div>"
      ],
      "text/plain": [
       "  Neighbourhood Description (Occurrence) UCR Violation Type Group (Incident)  \\\n",
       "0                           ABBOTTSFIELD                             Assault   \n",
       "1                           ABBOTTSFIELD                             Assault   \n",
       "2                           ABBOTTSFIELD                             Assault   \n",
       "3                           ABBOTTSFIELD                             Assault   \n",
       "4                           ABBOTTSFIELD                             Assault   \n",
       "5                           ABBOTTSFIELD                             Assault   \n",
       "6                           ABBOTTSFIELD                             Assault   \n",
       "7                           ABBOTTSFIELD                             Assault   \n",
       "8                           ABBOTTSFIELD                             Assault   \n",
       "9                           ABBOTTSFIELD                             Assault   \n",
       "\n",
       "   Incident Reported Year Incident Reported Quarter  Incident Reported Month  \\\n",
       "0                    2009                        Q1                        1   \n",
       "1                    2009                        Q1                        2   \n",
       "2                    2009                        Q1                        3   \n",
       "3                    2009                        Q2                        4   \n",
       "4                    2009                        Q2                        5   \n",
       "5                    2009                        Q2                        6   \n",
       "6                    2009                        Q3                        8   \n",
       "7                    2009                        Q3                        9   \n",
       "8                    2009                        Q4                       10   \n",
       "9                    2009                        Q4                       11   \n",
       "\n",
       "   # Incidents  \n",
       "0            3  \n",
       "1            5  \n",
       "2            2  \n",
       "3            2  \n",
       "4            6  \n",
       "5            4  \n",
       "6            3  \n",
       "7            4  \n",
       "8            4  \n",
       "9            6  "
      ]
     },
     "execution_count": 8,
     "metadata": {},
     "output_type": "execute_result"
    }
   ],
   "source": [
    "#DISPLAY FIRST 10 ROWS OF EDMONTON CRIME DATA\n",
    "table = pd.read_csv(\"eps_crime.csv\")\n",
    "table.head(10)"
   ]
  },
  {
   "cell_type": "code",
   "execution_count": 9,
   "metadata": {},
   "outputs": [
    {
     "data": {
      "text/html": [
       "<div>\n",
       "<style scoped>\n",
       "    .dataframe tbody tr th:only-of-type {\n",
       "        vertical-align: middle;\n",
       "    }\n",
       "\n",
       "    .dataframe tbody tr th {\n",
       "        vertical-align: top;\n",
       "    }\n",
       "\n",
       "    .dataframe thead th {\n",
       "        text-align: right;\n",
       "    }\n",
       "</style>\n",
       "<table border=\"1\" class=\"dataframe\">\n",
       "  <thead>\n",
       "    <tr style=\"text-align: right;\">\n",
       "      <th></th>\n",
       "      <th>WARD</th>\n",
       "      <th>NEIGHBOURHOOD_NUMBER</th>\n",
       "      <th>NEIGHBOURHOOD_NAME</th>\n",
       "      <th>CANADIAN_CITIZEN</th>\n",
       "      <th>NON_CANADIAN_CITIZEN</th>\n",
       "      <th>NO_RESPONSE</th>\n",
       "    </tr>\n",
       "  </thead>\n",
       "  <tbody>\n",
       "    <tr>\n",
       "      <th>0</th>\n",
       "      <td>Ward 1</td>\n",
       "      <td>3140</td>\n",
       "      <td>CRESTWOOD</td>\n",
       "      <td>1916</td>\n",
       "      <td>79</td>\n",
       "      <td>292</td>\n",
       "    </tr>\n",
       "    <tr>\n",
       "      <th>1</th>\n",
       "      <td>Ward 1</td>\n",
       "      <td>3330</td>\n",
       "      <td>PARKVIEW</td>\n",
       "      <td>3077</td>\n",
       "      <td>97</td>\n",
       "      <td>139</td>\n",
       "    </tr>\n",
       "    <tr>\n",
       "      <th>2</th>\n",
       "      <td>Ward 1</td>\n",
       "      <td>3380</td>\n",
       "      <td>RIVER VALLEY CAPITOL HILL</td>\n",
       "      <td>0</td>\n",
       "      <td>0</td>\n",
       "      <td>0</td>\n",
       "    </tr>\n",
       "    <tr>\n",
       "      <th>3</th>\n",
       "      <td>Ward 1</td>\n",
       "      <td>4010</td>\n",
       "      <td>ALBERTA PARK INDUSTRIAL</td>\n",
       "      <td>0</td>\n",
       "      <td>0</td>\n",
       "      <td>0</td>\n",
       "    </tr>\n",
       "    <tr>\n",
       "      <th>4</th>\n",
       "      <td>Ward 1</td>\n",
       "      <td>4011</td>\n",
       "      <td>ANTHONY HENDAY</td>\n",
       "      <td>0</td>\n",
       "      <td>0</td>\n",
       "      <td>0</td>\n",
       "    </tr>\n",
       "    <tr>\n",
       "      <th>5</th>\n",
       "      <td>Ward 1</td>\n",
       "      <td>4018</td>\n",
       "      <td>ANTHONY HENDAY BIG LAKE</td>\n",
       "      <td>0</td>\n",
       "      <td>0</td>\n",
       "      <td>0</td>\n",
       "    </tr>\n",
       "    <tr>\n",
       "      <th>6</th>\n",
       "      <td>Ward 1</td>\n",
       "      <td>4020</td>\n",
       "      <td>ALDERGROVE</td>\n",
       "      <td>4157</td>\n",
       "      <td>689</td>\n",
       "      <td>504</td>\n",
       "    </tr>\n",
       "    <tr>\n",
       "      <th>7</th>\n",
       "      <td>Ward 1</td>\n",
       "      <td>4030</td>\n",
       "      <td>ARMSTRONG INDUSTRIAL</td>\n",
       "      <td>0</td>\n",
       "      <td>0</td>\n",
       "      <td>121</td>\n",
       "    </tr>\n",
       "    <tr>\n",
       "      <th>8</th>\n",
       "      <td>Ward 1</td>\n",
       "      <td>4040</td>\n",
       "      <td>BELMEAD</td>\n",
       "      <td>3629</td>\n",
       "      <td>554</td>\n",
       "      <td>426</td>\n",
       "    </tr>\n",
       "    <tr>\n",
       "      <th>9</th>\n",
       "      <td>Ward 1</td>\n",
       "      <td>4060</td>\n",
       "      <td>BRITANNIA YOUNGSTOWN</td>\n",
       "      <td>2694</td>\n",
       "      <td>417</td>\n",
       "      <td>1594</td>\n",
       "    </tr>\n",
       "  </tbody>\n",
       "</table>\n",
       "</div>"
      ],
      "text/plain": [
       "     WARD  NEIGHBOURHOOD_NUMBER         NEIGHBOURHOOD_NAME  CANADIAN_CITIZEN  \\\n",
       "0  Ward 1                  3140                  CRESTWOOD              1916   \n",
       "1  Ward 1                  3330                   PARKVIEW              3077   \n",
       "2  Ward 1                  3380  RIVER VALLEY CAPITOL HILL                 0   \n",
       "3  Ward 1                  4010    ALBERTA PARK INDUSTRIAL                 0   \n",
       "4  Ward 1                  4011             ANTHONY HENDAY                 0   \n",
       "5  Ward 1                  4018    ANTHONY HENDAY BIG LAKE                 0   \n",
       "6  Ward 1                  4020                 ALDERGROVE              4157   \n",
       "7  Ward 1                  4030       ARMSTRONG INDUSTRIAL                 0   \n",
       "8  Ward 1                  4040                    BELMEAD              3629   \n",
       "9  Ward 1                  4060       BRITANNIA YOUNGSTOWN              2694   \n",
       "\n",
       "   NON_CANADIAN_CITIZEN  NO_RESPONSE  \n",
       "0                    79          292  \n",
       "1                    97          139  \n",
       "2                     0            0  \n",
       "3                     0            0  \n",
       "4                     0            0  \n",
       "5                     0            0  \n",
       "6                   689          504  \n",
       "7                     0          121  \n",
       "8                   554          426  \n",
       "9                   417         1594  "
      ]
     },
     "execution_count": 9,
     "metadata": {},
     "output_type": "execute_result"
    }
   ],
   "source": [
    "#DISPLAY EDMONTON 2014 CENSUS DATA FIRST 10 ROWS\n",
    "cen = pd.read_csv(\"2014_CENSUS.CSV\")\n",
    "\n",
    "cen.head(10)"
   ]
  },
  {
   "cell_type": "code",
   "execution_count": null,
   "metadata": {},
   "outputs": [],
   "source": [
    "import matplotlib.pyplot as plt\n",
    "import pandas as pd\n",
    "import seaborn as sns\n",
    "\n",
    "cen.plot.bar(title=\"CENSUS DATA EDMONTON\",color=\"k\",alpha=0.9,width=2)\n",
    "\n"
   ]
  },
  {
   "cell_type": "code",
   "execution_count": null,
   "metadata": {},
   "outputs": [],
   "source": [
    "table.plot.bar(title=\"CRIME DATA EDMONTON\",color=\"g\",alpha=0.9,align=\"edge\")"
   ]
  },
  {
   "cell_type": "code",
   "execution_count": null,
   "metadata": {},
   "outputs": [],
   "source": []
  }
 ],
 "metadata": {
  "kernelspec": {
   "display_name": "Python 3",
   "language": "python",
   "name": "python3"
  },
  "language_info": {
   "codemirror_mode": {
    "name": "ipython",
    "version": 3
   },
   "file_extension": ".py",
   "mimetype": "text/x-python",
   "name": "python",
   "nbconvert_exporter": "python",
   "pygments_lexer": "ipython3",
   "version": "3.7.1"
  }
 },
 "nbformat": 4,
 "nbformat_minor": 2
}
